{
 "cells": [
  {
   "cell_type": "code",
   "execution_count": 5,
   "metadata": {},
   "outputs": [
    {
     "name": "stdout",
     "output_type": "stream",
     "text": [
      "この曲のキーは「Cメジャー」\n",
      "BPMは「97.201」です\n"
     ]
    }
   ],
   "source": [
    "import spotipy\n",
    "from spotipy.oauth2 import SpotifyClientCredentials\n",
    "\n",
    "# Spotify APIの認証情報\n",
    "client_id = \"YOUR_CLIENT_ID\"\n",
    "client_secret = \"YOUR_CLIENT_SECRET\"\n",
    "\n",
    "# クライアントの初期化\n",
    "auth_manager = SpotifyClientCredentials(client_id=client_id, client_secret=client_secret)\n",
    "sp = spotipy.Spotify(auth_manager=auth_manager)\n",
    "\n",
    "song_URL = input(\"曲のURLを入力してください\")\n",
    "track_id = song_URL[song_URL.find(\"track/\") + len(\"track/\"):][:22]\n",
    "\n",
    "\n",
    "key_num = sp.audio_features(track_id)[0][\"key\"]\n",
    "mode_num = sp.audio_features(track_id)[0][\"mode\"]\n",
    "BPM = sp.audio_features(track_id)[0][\"tempo\"]\n",
    "\n",
    "key = \"\"\n",
    "mode = \"\"\n",
    "\n",
    "if mode_num == 0:\n",
    "    mode = \"マイナー\"\n",
    "else:\n",
    "    mode = \"メジャー\"\n",
    "\n",
    "if key_num == 0:\n",
    "    key = \"C\"\n",
    "elif key_num == 1:\n",
    "    key = \"C#\"\n",
    "elif key_num == 2:\n",
    "    key = \"D\"\n",
    "elif key_num == 3:\n",
    "    key = \"D#\"\n",
    "elif key_num == 4:\n",
    "    key = \"E\"\n",
    "elif key_num == 5:\n",
    "    key = \"F\"\n",
    "elif key_num == 6:\n",
    "    key = \"F#\"\n",
    "elif key_num == 7:\n",
    "    key = \"G\"\n",
    "elif key_num == 8:\n",
    "    key = \"G#\"\n",
    "elif key_num == 9:\n",
    "    key = \"A\"\n",
    "elif key_num == 10:\n",
    "    key = \"A#\"\n",
    "elif key_num == 11:\n",
    "    key = \"B\"\n",
    "else:\n",
    "    key = \"キーがわかりません\"\n",
    "\n",
    "print(\"この曲のキーは「\" + key + mode + \"」\")\n",
    "print(\"BPMは「\" + str(BPM) + \"」です\")\n",
    "\n"
   ]
  }
 ],
 "metadata": {
  "kernelspec": {
   "display_name": "base",
   "language": "python",
   "name": "python3"
  },
  "language_info": {
   "codemirror_mode": {
    "name": "ipython",
    "version": 3
   },
   "file_extension": ".py",
   "mimetype": "text/x-python",
   "name": "python",
   "nbconvert_exporter": "python",
   "pygments_lexer": "ipython3",
   "version": "3.10.9"
  },
  "orig_nbformat": 4
 },
 "nbformat": 4,
 "nbformat_minor": 2
}
